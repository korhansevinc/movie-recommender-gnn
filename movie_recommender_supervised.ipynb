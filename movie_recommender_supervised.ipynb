{
 "cells": [
  {
   "cell_type": "markdown",
   "id": "8abbed94",
   "metadata": {},
   "source": [
    "# Imports"
   ]
  },
  {
   "cell_type": "code",
   "execution_count": 1,
   "id": "06db3c8e",
   "metadata": {},
   "outputs": [],
   "source": [
    "# import required modules\n",
    "import random\n",
    "from tqdm.notebook import tqdm\n",
    "import pandas as pd\n",
    "import numpy as np\n",
    "import matplotlib.pyplot as plt\n",
    "from sklearn.model_selection import train_test_split\n",
    "from sklearn import model_selection, metrics, preprocessing\n",
    "import copy\n",
    "\n",
    "import torch\n",
    "from torch import nn, optim, Tensor\n",
    "\n",
    "from torch_sparse import SparseTensor, matmul\n",
    "\n",
    "from collections import defaultdict\n",
    "\n",
    "from torch_geometric.utils import structured_negative_sampling\n",
    "from torch_geometric.data import download_url, extract_zip\n",
    "from torch_geometric.nn.conv.gcn_conv import gcn_norm\n",
    "from torch_geometric.nn.conv import MessagePassing\n",
    "from torch_geometric.typing import Adj\n",
    "import torch.nn.functional as F"
   ]
  },
  {
   "cell_type": "markdown",
   "id": "9c42e300",
   "metadata": {},
   "source": [
    "# Load Dataset"
   ]
  },
  {
   "cell_type": "code",
   "execution_count": 2,
   "id": "53a38ace",
   "metadata": {},
   "outputs": [],
   "source": [
    "movie_path = './ml-latest-small/movies.csv'\n",
    "rating_path = './ml-latest-small/ratings.csv'\n",
    "user_path = './ml-latest-small/users.csv'"
   ]
  },
  {
   "cell_type": "code",
   "execution_count": 3,
   "id": "dcc01c7c",
   "metadata": {},
   "outputs": [],
   "source": [
    "rating_df = pd.read_csv(rating_path)\n",
    "\n",
    "lbl_user = preprocessing.LabelEncoder()\n",
    "lbl_movie = preprocessing.LabelEncoder()\n",
    "\n",
    "rating_df.userId = lbl_user.fit_transform(rating_df.userId.values)\n",
    "rating_df.movieId = lbl_movie.fit_transform(rating_df.movieId.values)"
   ]
  },
  {
   "cell_type": "code",
   "execution_count": 4,
   "id": "335a8286",
   "metadata": {},
   "outputs": [
    {
     "name": "stdout",
     "output_type": "stream",
     "text": [
      "609\n",
      "9723\n"
     ]
    }
   ],
   "source": [
    "print(rating_df.userId.max())\n",
    "print(rating_df.movieId.max())"
   ]
  },
  {
   "cell_type": "code",
   "execution_count": 5,
   "id": "07f9b0ee",
   "metadata": {},
   "outputs": [],
   "source": [
    "# load edges between users and movies\n",
    "def load_edge_csv(df, \n",
    "                  src_index_col, \n",
    "                  dst_index_col,  \n",
    "                  link_index_col, \n",
    "                  rating_threshold=3.5):\n",
    "    \"\"\"Loads csv containing edges between users and items\n",
    "\n",
    "    Args:\n",
    "        path (str): path to csv file\n",
    "        src_index_col (str): column name of users\n",
    "        src_mapping (dict): mapping between row number and user id\n",
    "        dst_index_col (str): column name of items\n",
    "        dst_mapping (dict): mapping between row number and item id\n",
    "        link_index_col (str): column name of user item interaction\n",
    "        rating_threshold (int, optional): Threshold to determine positivity of edge. Defaults to 4.\n",
    "\n",
    "    Returns:\n",
    "        torch.Tensor: 2 by N matrix containing the node ids of N user-item edges\n",
    "    \"\"\"\n",
    "    \n",
    "    edge_index = None\n",
    "    src = [user_id for user_id in  df['userId']]\n",
    "    \n",
    "    num_users = len(df['userId'].unique())\n",
    "\n",
    "    dst = [(movie_id) for movie_id in df['movieId']]\n",
    "    \n",
    "    link_vals = df[link_index_col].values\n",
    "\n",
    "    edge_attr = torch.from_numpy(df[link_index_col].values).view(-1, 1).to(torch.long) >= rating_threshold\n",
    "\n",
    "    edge_values = []\n",
    "\n",
    "    edge_index = [[], []]\n",
    "    for i in range(edge_attr.shape[0]):\n",
    "        if edge_attr[i]:\n",
    "            edge_index[0].append(src[i])\n",
    "            edge_index[1].append(dst[i])\n",
    "            edge_values.append(link_vals[i])\n",
    "\n",
    "    # edge_values is the label we will use for compute training loss                \n",
    "    return edge_index, edge_values"
   ]
  },
  {
   "cell_type": "code",
   "execution_count": 6,
   "id": "938a5feb",
   "metadata": {},
   "outputs": [],
   "source": [
    "\n",
    "edge_index, edge_values = load_edge_csv(\n",
    "    rating_df,\n",
    "    src_index_col='userId',\n",
    "    dst_index_col='movieId',\n",
    "    link_index_col='rating',\n",
    "    rating_threshold=1 # need to use threshold=1 so the model can learn based on RMSE\n",
    ")"
   ]
  },
  {
   "cell_type": "code",
   "execution_count": 7,
   "id": "98409e8c",
   "metadata": {},
   "outputs": [
    {
     "name": "stdout",
     "output_type": "stream",
     "text": [
      "tensor([[   0,    0,    0,  ...,  609,  609,  609],\n",
      "        [   0,    2,    5,  ..., 9444, 9445, 9485]])\n",
      "torch.Size([2, 99466])\n",
      "tensor([4., 4., 4.,  ..., 5., 5., 3.], dtype=torch.float64)\n",
      "torch.Size([99466])\n"
     ]
    }
   ],
   "source": [
    "# Convert to tensor\n",
    "# We use LongTensor here because the .propagate() method in the model needs either LongTensor or SparseTensor\n",
    "edge_index = torch.LongTensor(edge_index) \n",
    "edge_values = torch.tensor(edge_values)\n",
    "\n",
    "print(edge_index)\n",
    "print(edge_index.size())\n",
    "\n",
    "print(edge_values)\n",
    "print(edge_values.size())"
   ]
  },
  {
   "cell_type": "code",
   "execution_count": 8,
   "id": "cd2b5afa",
   "metadata": {},
   "outputs": [
    {
     "name": "stdout",
     "output_type": "stream",
     "text": [
      "num_users 610, num_movies 9724\n"
     ]
    }
   ],
   "source": [
    "# split the edges of the graph using a 80/10/10 train/validation/test split\n",
    "# num_users, num_movies = len(user_mapping), len(movie_mapping)\n",
    "\n",
    "num_users = len(rating_df['userId'].unique())\n",
    "num_movies = len(rating_df['movieId'].unique())\n",
    "\n",
    "print(f\"num_users {num_users}, num_movies {num_movies}\")"
   ]
  },
  {
   "cell_type": "code",
   "execution_count": 9,
   "id": "5573dbc4",
   "metadata": {},
   "outputs": [],
   "source": [
    "def convert_r_mat_edge_index_to_adj_mat_edge_index(input_edge_index, input_edge_values):\n",
    "    R = torch.zeros((num_users, num_movies))\n",
    "    for i in range(len(input_edge_index[0])):\n",
    "        row_idx = input_edge_index[0][i]\n",
    "        col_idx = input_edge_index[1][i]\n",
    "        R[row_idx][col_idx] = input_edge_values[i] # assign actual edge value to Interaction Matrix\n",
    "\n",
    "    R_transpose = torch.transpose(R, 0, 1)\n",
    "    \n",
    "    # create adj_matrix\n",
    "    adj_mat = torch.zeros((num_users + num_movies , num_users + num_movies))\n",
    "    adj_mat[: num_users, num_users :] = R.clone()\n",
    "    adj_mat[num_users :, : num_users] = R_transpose.clone()\n",
    "    \n",
    "    adj_mat_coo = adj_mat.to_sparse_coo()\n",
    "    adj_mat_coo_indices = adj_mat_coo.indices()\n",
    "    adj_mat_coo_values = adj_mat_coo.values()\n",
    "    return adj_mat_coo_indices, adj_mat_coo_values"
   ]
  },
  {
   "cell_type": "code",
   "execution_count": 10,
   "id": "788a1df1",
   "metadata": {},
   "outputs": [],
   "source": [
    "def convert_adj_mat_edge_index_to_r_mat_edge_index(input_edge_index, input_edge_values):\n",
    "    # Move the value tensor to the device of col tensor\n",
    "    input_edge_values = input_edge_values.to(input_edge_index[1].device)\n",
    "    \n",
    "    sparse_input_edge_index = SparseTensor(row=input_edge_index[0], \n",
    "                                           col=input_edge_index[1], \n",
    "                                           value=input_edge_values,\n",
    "                                           sparse_sizes=((num_users + num_movies), num_users + num_movies))\n",
    "    \n",
    "    adj_mat = sparse_input_edge_index.to_dense()\n",
    "    interact_mat = adj_mat[: num_users, num_users :]\n",
    "    \n",
    "    r_mat_edge_index = interact_mat.to_sparse_coo().indices()\n",
    "    r_mat_edge_values = interact_mat.to_sparse_coo().values()\n",
    "    \n",
    "    return r_mat_edge_index, r_mat_edge_values"
   ]
  },
  {
   "cell_type": "code",
   "execution_count": 11,
   "id": "c59e3f35",
   "metadata": {},
   "outputs": [],
   "source": [
    "num_interactions = edge_index.shape[1]\n",
    "all_indices = [i for i in range(num_interactions)]\n",
    "\n",
    "train_indices, test_indices = train_test_split(all_indices, \n",
    "                                               test_size=0.2, \n",
    "                                               random_state=1)\n",
    "\n",
    "val_indices, test_indices = train_test_split(test_indices, \n",
    "                                             test_size=0.5, \n",
    "                                             random_state=1)"
   ]
  },
  {
   "cell_type": "code",
   "execution_count": 12,
   "id": "ee13fb68",
   "metadata": {},
   "outputs": [],
   "source": [
    "train_edge_index = edge_index[:, train_indices]\n",
    "train_edge_value = edge_values[train_indices]\n",
    "\n",
    "val_edge_index = edge_index[:, val_indices]\n",
    "val_edge_value = edge_values[val_indices]\n",
    "\n",
    "test_edge_index = edge_index[:, test_indices]\n",
    "test_edge_value = edge_values[test_indices]"
   ]
  },
  {
   "cell_type": "code",
   "execution_count": 13,
   "id": "ae8d9dd1",
   "metadata": {},
   "outputs": [
    {
     "name": "stdout",
     "output_type": "stream",
     "text": [
      "num_users 610, num_movies 9724, num_interactions 99466\n",
      "train_edge_index tensor([[ 239,  102,  225,  ...,   34,  488,  609],\n",
      "        [ 274, 9006,  792,  ...,  260, 1486, 3867]])\n",
      "10334\n",
      "torch.Size([610])\n",
      "torch.Size([8898])\n",
      "tensor([4.5000, 3.5000, 3.5000,  ..., 3.5000, 5.0000, 1.0000],\n",
      "       dtype=torch.float64)\n",
      "torch.Size([9947])\n"
     ]
    }
   ],
   "source": [
    "print(f\"num_users {num_users}, num_movies {num_movies}, num_interactions {num_interactions}\")\n",
    "print(f\"train_edge_index {train_edge_index}\")\n",
    "print((num_users + num_movies))\n",
    "print(torch.unique(train_edge_index[0]).size())\n",
    "print(torch.unique(train_edge_index[1]).size())\n",
    "\n",
    "print(test_edge_value)\n",
    "print(test_edge_value.size())"
   ]
  },
  {
   "cell_type": "code",
   "execution_count": 14,
   "id": "853bf141",
   "metadata": {},
   "outputs": [],
   "source": [
    "train_edge_index, train_edge_values  = convert_r_mat_edge_index_to_adj_mat_edge_index(train_edge_index, train_edge_value)\n",
    "val_edge_index, val_edge_values = convert_r_mat_edge_index_to_adj_mat_edge_index(val_edge_index, val_edge_value)\n",
    "test_edge_index, test_edge_values = convert_r_mat_edge_index_to_adj_mat_edge_index(test_edge_index, test_edge_value)"
   ]
  },
  {
   "cell_type": "code",
   "execution_count": 15,
   "id": "a4e13290",
   "metadata": {},
   "outputs": [
    {
     "name": "stdout",
     "output_type": "stream",
     "text": [
      "tensor([[    0,     0,     0,  ..., 10331, 10332, 10333],\n",
      "        [  610,   615,   653,  ...,   183,   183,   330]])\n",
      "torch.Size([2, 159144])\n",
      "tensor([[    0,     0,     0,  ..., 10312, 10316, 10327],\n",
      "        [  612,   699,   924,  ...,   247,    49,   183]])\n",
      "torch.Size([2, 19894])\n",
      "tensor([[    0,     0,     0,  ..., 10302, 10307, 10310],\n",
      "        [  656,   734,   746,  ...,   513,   211,   337]])\n",
      "torch.Size([2, 19894])\n",
      "\n",
      " train_edge_values: \n",
      " tensor([4.0000, 4.0000, 5.0000,  ..., 3.5000, 3.5000, 4.0000]) \n",
      " torch.Size([159144])\n",
      "\n",
      " val_edge_values: \n",
      " tensor([4.0000, 5.0000, 4.0000,  ..., 3.5000, 3.5000, 4.0000]) \n",
      " torch.Size([19894])\n",
      "\n",
      " test_edge_values: \n",
      " tensor([5.0000, 5.0000, 5.0000,  ..., 3.0000, 4.5000, 2.5000]) \n",
      " torch.Size([19894])\n"
     ]
    }
   ],
   "source": [
    "print(train_edge_index)\n",
    "print(train_edge_index.size())\n",
    "print(val_edge_index)\n",
    "print(val_edge_index.size())\n",
    "print(test_edge_index)\n",
    "print(test_edge_index.size())\n",
    "\n",
    "print(f\"\\n train_edge_values: \\n {train_edge_values} \\n {train_edge_values.size()}\")\n",
    "print(f\"\\n val_edge_values: \\n {val_edge_values} \\n {val_edge_values.size()}\")\n",
    "print(f\"\\n test_edge_values: \\n {test_edge_values} \\n {test_edge_values.size()}\")"
   ]
  },
  {
   "cell_type": "markdown",
   "id": "eaab5b0e",
   "metadata": {},
   "source": [
    "# Implementing LightGCN\n",
    "\n",
    "## Light Graph Convolution\n",
    "Between each layer, LightGCN uses the following propagation rule for user and item embeddings.\n",
    "\n",
    "\\begin{equation}\n",
    "e_u^{(k+1)} = \\sum_{i \\in N_u} \\frac{1}{\\sqrt{|N_u|}\\sqrt{|N_i|}} e_i^{(k)} \\quad e_i^{(k+1)} = \\sum_{u \\in N_i} \\frac{1}{\\sqrt{|N_i|}\\sqrt{|N_u|}} e_u^{(k)}\n",
    "\\end{equation}\n",
    "\n",
    "$N_u$: the set of all neighbors of user $u$ (items liked by $u$)\n",
    "\n",
    "$N_i$: the set of all neighbors of item $i$ (users who liked $i$)\n",
    "\n",
    "$e_u^{(k)}$ : k-th layer user embedding\n",
    "\n",
    "$e_i^{(k)}$ : k-th layer item embedding\n",
    "\n",
    "\n",
    "\n",
    "## Layer Combination and Model Prediction\n",
    "The only trainable parameters of LightGCN are the 0-th layer embeddings $e_u^{(0)}$ and $e_i^{(0)}$ for each user and item. We combine the embeddings obtained at each layer of propagation to form the final embeddings for all user and item, $e_u$ and $e_i$ via the follwing equation.\n",
    "\n",
    "\n",
    "\\begin{equation}\n",
    "e_u = \\sum_{k = 0}^K \\alpha_k e_u^{(k)} \\quad e_i = \\sum_{k = 0}^K \\alpha_k e_i^{(k)}\n",
    "\\end{equation}\n",
    "\n",
    "$\\alpha_k$ : hyperparameter which weights the contribution of the k-th layer embedding to the final embedding\n",
    "\n",
    "The model prediction is obtained by taking the inner product of the final user and item embeddings.\n",
    "\n",
    "\\begin{equation}\n",
    "\\hat{y}_{ui} = e_u^Te_i\n",
    "\\end{equation}\n",
    "\n",
    "## Matrix Form\n",
    "In our implementation, we utilize the matrix form of LightGCN. We perform multi-scale diffusion to obtain the final embedding, which sums embeddings diffused across multi-hop scales. \n",
    "\n",
    "\\begin{equation}\n",
    "E^{(K)} = \\alpha_0 E^{(0)} + \\alpha_1 \\tilde{A}^1 E^{(0)} + \\alpha_2 \\tilde{A}^2 E^{(0)} + \\cdot \\cdot \\cdot + \\alpha_K \\tilde{A}^K \\tilde{A} E^{(0)}\n",
    "\\end{equation}\n",
    "\n",
    "$E^{(0)} \\in \\mathcal{R}^{(M + N)} \\times T$ : stacked initial item and user embeddings where $M$, $N$, and $T$ denote the number of users, number of items, and the dimension of each embedding respectively\n",
    "\n",
    "$\\tilde{A} = D^{-\\frac{1}{2}}AD^{-\\frac{1}{2}}$ : symmetrically normalized adjacency matrix"
   ]
  },
  {
   "cell_type": "code",
   "execution_count": null,
   "id": "6e8bdc1b",
   "metadata": {},
   "outputs": [],
   "source": []
  },
  {
   "cell_type": "code",
   "execution_count": 16,
   "id": "9e07d93a",
   "metadata": {},
   "outputs": [],
   "source": [
    "# defines LightGCN model\n",
    "class LightGCN(MessagePassing):\n",
    "    \"\"\"LightGCN Model as proposed in https://arxiv.org/abs/2002.02126\n",
    "    \"\"\"\n",
    "\n",
    "    def __init__(self, num_users, num_items, embedding_dim=64, K=3, add_self_loops=False, dropout_rate=0.1):\n",
    "        \"\"\"Initializes LightGCN Model\n",
    "\n",
    "        Args:\n",
    "            num_users (int): Number of users\n",
    "            num_items (int): Number of items\n",
    "            embedding_dim (int, optional): Dimensionality of embeddings. Defaults to 8.\n",
    "            K (int, optional): Number of message passing layers. Defaults to 3.\n",
    "            add_self_loops (bool, optional): Whether to add self loops for message passing. Defaults to False.\n",
    "        \"\"\"\n",
    "        super().__init__()\n",
    "        self.dropout_rate = dropout_rate\n",
    "        self.num_users = num_users\n",
    "        self.num_items = num_items\n",
    "        self.embedding_dim = embedding_dim\n",
    "        self.K = K\n",
    "        self.add_self_loops = add_self_loops\n",
    "\n",
    "\n",
    "        # define user and item embedding for direct look up. \n",
    "        # embedding dimension: num_user/num_item x embedding_dim\n",
    "        self.users_emb = nn.Embedding(num_embeddings=self.num_users, embedding_dim=self.embedding_dim) # e_u^0\n",
    "        \n",
    "        self.items_emb = nn.Embedding(num_embeddings=self.num_items, embedding_dim=self.embedding_dim) # e_i^0\n",
    "\n",
    "        \n",
    "        # \"Fills the input Tensor with values drawn from the normal distribution\"\n",
    "        # according to LightGCN paper, this gives better performance\n",
    "        nn.init.normal_(self.users_emb.weight, std=0.1)\n",
    "        nn.init.normal_(self.items_emb.weight, std=0.1)\n",
    "        \n",
    "        # create a linear layer (fully connected layer) so we can output a single value (predicted_rating)\n",
    "        self.out = nn.Linear(embedding_dim + embedding_dim, 1)\n",
    "\n",
    "    def forward(self, edge_index: Tensor, edge_values: Tensor):\n",
    "        \"\"\"Forward propagation of LightGCN Model.\n",
    "\n",
    "        Args:\n",
    "            edge_index (SparseTensor): adjacency matrix\n",
    "\n",
    "        Returns:\n",
    "            tuple (Tensor): e_u_k, e_u_0, e_i_k, e_i_0\n",
    "        \"\"\"\n",
    "        \n",
    "        \"\"\"\n",
    "            compute \\tilde{A}: symmetrically normalized adjacency matrix\n",
    "            \\tilde_A = D^(-1/2) * A * D^(-1/2)    according to LightGCN paper\n",
    "        \n",
    "            this is essentially a metrix operation way to get 1/ (sqrt(n_neighbors_i) * sqrt(n_neighbors_j))\n",
    "\n",
    "        \n",
    "            if your original edge_index look like\n",
    "            tensor([[   0,    0,    0,  ...,  609,  609,  609],\n",
    "                    [   0,    2,    5,  ..., 9444, 9445, 9485]])\n",
    "                    \n",
    "                    torch.Size([2, 99466])\n",
    "                    \n",
    "            then this will output: \n",
    "                (\n",
    "                 tensor([[   0,    0,    0,  ...,  609,  609,  609],\n",
    "                         [   0,    2,    5,  ..., 9444, 9445, 9485]]), \n",
    "                 tensor([0.0047, 0.0096, 0.0068,  ..., 0.0592, 0.0459, 0.1325])\n",
    "                 )\n",
    "                 \n",
    "              where edge_index_norm[0] is just the original edge_index\n",
    "              \n",
    "              and edge_index_norm[1] is the symmetrically normalization term. \n",
    "              \n",
    "            under the hood it's basically doing\n",
    "                def compute_gcn_norm(edge_index, emb):\n",
    "                    emb = emb.weight\n",
    "                    from_, to_ = edge_index\n",
    "                    deg = degree(to_, emb.size(0), dtype=emb.dtype)\n",
    "                    deg_inv_sqrt = deg.pow(-0.5)\n",
    "                    deg_inv_sqrt[deg_inv_sqrt == float('inf')] = 0\n",
    "                    norm = deg_inv_sqrt[from_] * deg_inv_sqrt[to_]\n",
    "\n",
    "                    return norm\n",
    "                 \n",
    "                \n",
    "        \"\"\"\n",
    "        edge_index_norm = gcn_norm(edge_index=edge_index, \n",
    "                                   add_self_loops=self.add_self_loops)\n",
    "\n",
    "        # concat the user_emb and item_emb as the layer0 embing matrix\n",
    "        # size will be (n_users + n_items) x emb_vector_len.   e.g: 10334 x 64\n",
    "        emb_0 = torch.cat([self.users_emb.weight, self.items_emb.weight]) # E^0\n",
    "\n",
    "        embs = [emb_0] # save the layer0 emb to the embs list\n",
    "        \n",
    "        # emb_k is the emb that we are actually going to push it through the graph layers\n",
    "        # as described in lightGCN paper formula 7\n",
    "        emb_k = emb_0 \n",
    "\n",
    "        # push the embedding of all users and items through the Graph Model K times.\n",
    "        # K here is the number of layers\n",
    "        for i in range(self.K):\n",
    "            emb_k = self.propagate(edge_index=edge_index_norm[0], x=emb_k, norm=edge_index_norm[1])\n",
    "            embs.append(emb_k)\n",
    "            \n",
    "            \n",
    "        # this is doing the formula8 in LightGCN paper  \n",
    "            \n",
    "        # the stacked embs is a list of embedding matrix at each layer\n",
    "        #    it's of shape n_nodes x (n_layers + 1) x emb_vector_len. \n",
    "        #        e.g: torch.Size([10334, 4, 64])\n",
    "        embs = torch.stack(embs, dim=1)\n",
    "        \n",
    "        # From LightGCn paper: \"In our experiments, we find that setting α_k uniformly as 1/(K + 1)\n",
    "        #    leads to good performance in general.\"\n",
    "        emb_final = torch.mean(embs, dim=1) # E^K\n",
    "        \n",
    "        users_emb_final, items_emb_final = torch.split(emb_final, \n",
    "                                                       [self.num_users, self.num_items]) # splits into e_u^K and e_i^K\n",
    "\n",
    "\n",
    "        r_mat_edge_index, _ = convert_adj_mat_edge_index_to_r_mat_edge_index(edge_index, edge_values)\n",
    "        \n",
    "        src, dest =  r_mat_edge_index[0], r_mat_edge_index[1]\n",
    "        \n",
    "        # applying embedding lookup to get embeddings for src nodes and dest nodes in the edge list\n",
    "        user_embeds = users_emb_final[src]\n",
    "        item_embeds = items_emb_final[dest]\n",
    "        \n",
    "        # output dim: edge_index_len x 128 (given 64 is the original emb_vector_len)\n",
    "        output = torch.cat([user_embeds, item_embeds], dim=1)\n",
    "        \n",
    "        # push it through the linear layer\n",
    "        output = self.out(output)\n",
    "        \n",
    "        return output\n",
    "    \n",
    "    def message(self, x_j, norm):\n",
    "        return norm.view(-1, 1) * x_j\n",
    "\n",
    "layers = 1 \n",
    "model = LightGCN(num_users=num_users, \n",
    "                 num_items=num_movies, \n",
    "                 K=layers)"
   ]
  },
  {
   "cell_type": "markdown",
   "id": "0f5989fc",
   "metadata": {},
   "source": [
    "# Training\n",
    "\n",
    "Your test set performance should be in line with the following (*K=20*):\n"
   ]
  },
  {
   "cell_type": "code",
   "execution_count": 17,
   "id": "4c8a59f8",
   "metadata": {},
   "outputs": [],
   "source": [
    "# define contants\n",
    "ITERATIONS = 10000\n",
    "EPOCHS = 10\n",
    "\n",
    "BATCH_SIZE = 1024\n",
    "\n",
    "LR = 1e-3\n",
    "ITERS_PER_EVAL = 200\n",
    "ITERS_PER_LR_DECAY = 200\n",
    "K = 10\n",
    "LAMBDA = 1e-6\n"
   ]
  },
  {
   "cell_type": "code",
   "execution_count": 18,
   "id": "1470e6a7",
   "metadata": {},
   "outputs": [
    {
     "name": "stdout",
     "output_type": "stream",
     "text": [
      "BATCH_SIZE 1024\n"
     ]
    }
   ],
   "source": [
    "print(f\"BATCH_SIZE {BATCH_SIZE}\")"
   ]
  },
  {
   "cell_type": "code",
   "execution_count": 19,
   "id": "ec3aee9d",
   "metadata": {},
   "outputs": [
    {
     "name": "stdout",
     "output_type": "stream",
     "text": [
      "Using device cuda.\n"
     ]
    }
   ],
   "source": [
    "# setup\n",
    "device = torch.device('cuda' if torch.cuda.is_available() else 'cpu')\n",
    "print(f\"Using device {device}.\")\n",
    "\n",
    "\n",
    "model = model.to(device)\n",
    "model.train()\n",
    "\n",
    "# add decay to avoid overfit\n",
    "optimizer = optim.Adam(model.parameters(), lr=LR, weight_decay=0.01)\n",
    "\n",
    "scheduler = optim.lr_scheduler.ExponentialLR(optimizer, gamma=0.95)\n",
    "\n",
    "edge_index = edge_index.to(device)\n",
    "train_edge_index = train_edge_index.to(device)\n",
    "val_edge_index = val_edge_index.to(device)\n",
    "\n",
    "\n",
    "loss_func = nn.MSELoss()"
   ]
  },
  {
   "cell_type": "code",
   "execution_count": null,
   "id": "ce5aa2f5",
   "metadata": {},
   "outputs": [],
   "source": []
  },
  {
   "cell_type": "code",
   "execution_count": 20,
   "id": "38817a54",
   "metadata": {},
   "outputs": [],
   "source": [
    "def get_recall_at_k(input_edge_index, \n",
    "                     input_edge_values, # the true label of actual ratings for each user/item interaction\n",
    "                     pred_ratings, # the list of predicted ratings\n",
    "                     k=10, \n",
    "                     threshold=3.5):\n",
    "    with torch.no_grad():\n",
    "        user_item_rating_list = defaultdict(list)\n",
    "\n",
    "        for i in range(len(input_edge_index[0])):\n",
    "            src = input_edge_index[0][i].item()\n",
    "            dest = input_edge_index[1][i].item()\n",
    "            true_rating = input_edge_values[i].item()\n",
    "            pred_rating = pred_ratings[i].item()\n",
    "\n",
    "            user_item_rating_list[src].append((pred_rating, true_rating))\n",
    "\n",
    "        recalls = dict()\n",
    "        precisions = dict()\n",
    "\n",
    "        for user_id, user_ratings in user_item_rating_list.items():\n",
    "            user_ratings.sort(key=lambda x: x[0], reverse=True)\n",
    "\n",
    "            n_rel = sum((true_r >= threshold) for (_, true_r) in user_ratings)\n",
    "\n",
    "            n_rec_k = sum((est >= threshold) for (est, _) in user_ratings[:k])\n",
    "            \n",
    "            n_rel_and_rec_k = sum(\n",
    "                ((true_r >= threshold) and (est >= threshold))\n",
    "                for (est, true_r) in user_ratings[:k]\n",
    "            )\n",
    "\n",
    "            precisions[user_id] = n_rel_and_rec_k / n_rec_k if n_rec_k != 0 else 0\n",
    "            recalls[user_id] = n_rel_and_rec_k / n_rel if n_rel != 0 else 0\n",
    "\n",
    "        overall_recall = sum(rec for rec in recalls.values()) / len(recalls)\n",
    "        overall_precision = sum(prec for prec in precisions.values()) / len(precisions)\n",
    "\n",
    "        return overall_recall, overall_precision\n",
    "    "
   ]
  },
  {
   "cell_type": "code",
   "execution_count": 21,
   "id": "b002fba3",
   "metadata": {},
   "outputs": [],
   "source": [
    "r_mat_train_edge_index, r_mat_train_edge_values = convert_adj_mat_edge_index_to_r_mat_edge_index(train_edge_index, train_edge_values)\n",
    "r_mat_val_edge_index, r_mat_val_edge_values = convert_adj_mat_edge_index_to_r_mat_edge_index(val_edge_index, val_edge_values)\n",
    "r_mat_test_edge_index, r_mat_test_edge_values = convert_adj_mat_edge_index_to_r_mat_edge_index(test_edge_index, test_edge_values)\n"
   ]
  },
  {
   "cell_type": "code",
   "execution_count": 22,
   "id": "53d7b752",
   "metadata": {},
   "outputs": [
    {
     "data": {
      "application/vnd.jupyter.widget-view+json": {
       "model_id": "b83f5289ab2f47cd84125b040de81da6",
       "version_major": 2,
       "version_minor": 0
      },
      "text/plain": [
       "  0%|          | 0/10000 [00:00<?, ?it/s]"
      ]
     },
     "metadata": {},
     "output_type": "display_data"
    },
    {
     "name": "stdout",
     "output_type": "stream",
     "text": [
      "[Iteration 0/10000], train_loss: 13.72114, val_loss: 13.68601,  recall_at_k 0.0, precision_at_k 0.0\n",
      "[Iteration 200/10000], train_loss: 2.41818, val_loss: 2.53731,  recall_at_k 0.01196, precision_at_k 0.11491\n",
      "[Iteration 400/10000], train_loss: 1.56092, val_loss: 1.63344,  recall_at_k 0.07511, precision_at_k 0.3041\n",
      "[Iteration 600/10000], train_loss: 1.31668, val_loss: 1.38143,  recall_at_k 0.11607, precision_at_k 0.36978\n",
      "[Iteration 800/10000], train_loss: 1.19128, val_loss: 1.25249,  recall_at_k 0.1441, precision_at_k 0.41471\n",
      "[Iteration 1000/10000], train_loss: 1.11148, val_loss: 1.17063,  recall_at_k 0.16775, precision_at_k 0.43983\n",
      "[Iteration 1200/10000], train_loss: 1.05493, val_loss: 1.11277,  recall_at_k 0.18541, precision_at_k 0.4592\n",
      "[Iteration 1400/10000], train_loss: 1.01221, val_loss: 1.06915,  recall_at_k 0.19945, precision_at_k 0.47737\n",
      "[Iteration 1600/10000], train_loss: 0.97852, val_loss: 1.03478,  recall_at_k 0.21452, precision_at_k 0.49082\n",
      "[Iteration 1800/10000], train_loss: 0.95114, val_loss: 1.00684,  recall_at_k 0.22578, precision_at_k 0.49507\n",
      "[Iteration 2000/10000], train_loss: 0.9284, val_loss: 0.98356,  recall_at_k 0.23408, precision_at_k 0.49761\n",
      "[Iteration 2200/10000], train_loss: 0.90918, val_loss: 0.96381,  recall_at_k 0.24243, precision_at_k 0.50679\n",
      "[Iteration 2400/10000], train_loss: 0.89275, val_loss: 0.94681,  recall_at_k 0.25085, precision_at_k 0.51436\n",
      "[Iteration 2600/10000], train_loss: 0.87854, val_loss: 0.93203,  recall_at_k 0.2566, precision_at_k 0.52006\n",
      "[Iteration 2800/10000], train_loss: 0.86619, val_loss: 0.91904,  recall_at_k 0.26464, precision_at_k 0.5253\n",
      "[Iteration 3000/10000], train_loss: 0.8554, val_loss: 0.90756,  recall_at_k 0.27001, precision_at_k 0.52611\n",
      "[Iteration 3200/10000], train_loss: 0.84591, val_loss: 0.89737,  recall_at_k 0.27628, precision_at_k 0.53134\n",
      "[Iteration 3400/10000], train_loss: 0.83756, val_loss: 0.88828,  recall_at_k 0.27779, precision_at_k 0.53036\n",
      "[Iteration 3600/10000], train_loss: 0.8302, val_loss: 0.88016,  recall_at_k 0.28041, precision_at_k 0.53135\n",
      "[Iteration 3800/10000], train_loss: 0.82372, val_loss: 0.87287,  recall_at_k 0.28263, precision_at_k 0.53214\n",
      "[Iteration 4000/10000], train_loss: 0.81801, val_loss: 0.86633,  recall_at_k 0.28649, precision_at_k 0.53436\n",
      "[Iteration 4200/10000], train_loss: 0.81297, val_loss: 0.86047,  recall_at_k 0.29052, precision_at_k 0.53825\n",
      "[Iteration 4400/10000], train_loss: 0.80854, val_loss: 0.8552,  recall_at_k 0.29268, precision_at_k 0.54012\n",
      "[Iteration 4600/10000], train_loss: 0.80466, val_loss: 0.85046,  recall_at_k 0.29432, precision_at_k 0.54038\n",
      "[Iteration 4800/10000], train_loss: 0.80124, val_loss: 0.84622,  recall_at_k 0.29663, precision_at_k 0.54176\n",
      "[Iteration 5000/10000], train_loss: 0.79829, val_loss: 0.84236,  recall_at_k 0.29897, precision_at_k 0.54167\n",
      "[Iteration 5200/10000], train_loss: 0.79566, val_loss: 0.83899,  recall_at_k 0.30153, precision_at_k 0.54235\n",
      "[Iteration 5400/10000], train_loss: 0.79339, val_loss: 0.83594,  recall_at_k 0.30403, precision_at_k 0.54477\n",
      "[Iteration 5600/10000], train_loss: 0.79143, val_loss: 0.83316,  recall_at_k 0.30406, precision_at_k 0.54323\n",
      "[Iteration 5800/10000], train_loss: 0.78973, val_loss: 0.83067,  recall_at_k 0.30816, precision_at_k 0.5457\n",
      "[Iteration 6000/10000], train_loss: 0.78825, val_loss: 0.82846,  recall_at_k 0.31035, precision_at_k 0.54764\n",
      "[Iteration 6200/10000], train_loss: 0.78697, val_loss: 0.82646,  recall_at_k 0.31221, precision_at_k 0.54866\n",
      "[Iteration 6400/10000], train_loss: 0.78587, val_loss: 0.82466,  recall_at_k 0.313, precision_at_k 0.54978\n",
      "[Iteration 6600/10000], train_loss: 0.78491, val_loss: 0.82303,  recall_at_k 0.31486, precision_at_k 0.55008\n",
      "[Iteration 6800/10000], train_loss: 0.78408, val_loss: 0.82156,  recall_at_k 0.31523, precision_at_k 0.55039\n",
      "[Iteration 7000/10000], train_loss: 0.78336, val_loss: 0.82023,  recall_at_k 0.31722, precision_at_k 0.55339\n",
      "[Iteration 7200/10000], train_loss: 0.78274, val_loss: 0.81902,  recall_at_k 0.31831, precision_at_k 0.55259\n",
      "[Iteration 7400/10000], train_loss: 0.78215, val_loss: 0.81796,  recall_at_k 0.31861, precision_at_k 0.55442\n",
      "[Iteration 7600/10000], train_loss: 0.78171, val_loss: 0.81691,  recall_at_k 0.31887, precision_at_k 0.55451\n",
      "[Iteration 7800/10000], train_loss: 0.78129, val_loss: 0.81599,  recall_at_k 0.3192, precision_at_k 0.55455\n",
      "[Iteration 8000/10000], train_loss: 0.78091, val_loss: 0.81515,  recall_at_k 0.31945, precision_at_k 0.55622\n",
      "[Iteration 8200/10000], train_loss: 0.78057, val_loss: 0.81436,  recall_at_k 0.31985, precision_at_k 0.55654\n",
      "[Iteration 8400/10000], train_loss: 0.78027, val_loss: 0.81364,  recall_at_k 0.31956, precision_at_k 0.55613\n",
      "[Iteration 8600/10000], train_loss: 0.78001, val_loss: 0.81298,  recall_at_k 0.32005, precision_at_k 0.55781\n",
      "[Iteration 8800/10000], train_loss: 0.77974, val_loss: 0.81236,  recall_at_k 0.32086, precision_at_k 0.55876\n",
      "[Iteration 9000/10000], train_loss: 0.77951, val_loss: 0.81178,  recall_at_k 0.32078, precision_at_k 0.55875\n",
      "[Iteration 9200/10000], train_loss: 0.7793, val_loss: 0.81124,  recall_at_k 0.3229, precision_at_k 0.56061\n",
      "[Iteration 9400/10000], train_loss: 0.7791, val_loss: 0.81075,  recall_at_k 0.32283, precision_at_k 0.56056\n",
      "[Iteration 9600/10000], train_loss: 0.77891, val_loss: 0.81028,  recall_at_k 0.32364, precision_at_k 0.56228\n",
      "[Iteration 9800/10000], train_loss: 0.77874, val_loss: 0.80984,  recall_at_k 0.32416, precision_at_k 0.56409\n"
     ]
    }
   ],
   "source": [
    "# training loop\n",
    "train_losses = []\n",
    "val_losses = []\n",
    "val_recall_at_ks = []\n",
    "\n",
    "for iter in tqdm(range(ITERATIONS)):\n",
    "    # forward propagation\n",
    "\n",
    "    # the rating here is based on r_mat\n",
    "    pred_ratings = model.forward(train_edge_index, train_edge_values)\n",
    "    \n",
    "\n",
    "    train_loss = loss_func(pred_ratings, r_mat_train_edge_values.view(-1,1))    \n",
    "\n",
    "        \n",
    "    optimizer.zero_grad()\n",
    "    train_loss.backward()\n",
    "    optimizer.step()\n",
    "\n",
    "    # going over validation set\n",
    "    if iter % ITERS_PER_EVAL == 0:\n",
    "        model.eval()\n",
    "\n",
    "        with torch.no_grad():\n",
    "            val_pred_ratings = model.forward(val_edge_index, val_edge_values)\n",
    "            \n",
    "            val_loss = loss_func(val_pred_ratings, r_mat_val_edge_values.view(-1,1)).sum()\n",
    "            \n",
    "            recall_at_k, precision_at_k = get_recall_at_k(r_mat_val_edge_index, \n",
    "                                                          r_mat_val_edge_values, \n",
    "                                                          val_pred_ratings, \n",
    "                                                          k = 20\n",
    "                                                         )\n",
    "    \n",
    "                \n",
    "            val_recall_at_ks.append(round(recall_at_k, 5))\n",
    "            train_losses.append(train_loss.item())\n",
    "            val_losses.append(val_loss.item())\n",
    "        \n",
    "            print(f\"[Iteration {iter}/{ITERATIONS}], train_loss: {round(train_loss.item(), 5)}, val_loss: {round(val_loss.item(), 5)},  recall_at_k {round(recall_at_k, 5)}, precision_at_k {round(precision_at_k, 5)}\")\n",
    "\n",
    "        model.train()\n",
    "\n",
    "    if iter % ITERS_PER_LR_DECAY == 0 and iter != 0:\n",
    "        scheduler.step()"
   ]
  },
  {
   "cell_type": "markdown",
   "id": "58187223",
   "metadata": {},
   "source": [
    "# Plot (RMSE)"
   ]
  },
  {
   "cell_type": "code",
   "execution_count": 23,
   "id": "30685ec8",
   "metadata": {},
   "outputs": [
    {
     "data": {
      "image/png": "[encoded data removed]",
      "text/plain": [
       "<Figure size 640x480 with 1 Axes>"
      ]
     },
     "metadata": {},
     "output_type": "display_data"
    }
   ],
   "source": [
    "iters = [iter * ITERS_PER_EVAL for iter in range(len(train_losses))]\n",
    "plt.plot(iters, train_losses, label='train')\n",
    "plt.plot(iters, val_losses, label='validation')\n",
    "plt.xlabel('iteration')\n",
    "plt.ylabel('loss')\n",
    "plt.title('training and validation loss curves')\n",
    "plt.legend()\n",
    "plt.show()"
   ]
  },
  {
   "cell_type": "code",
   "execution_count": 24,
   "id": "efc3f2a9",
   "metadata": {},
   "outputs": [
    {
     "data": {
      "image/png": "[encoded data removed]",
      "text/plain": [
       "<Figure size 640x480 with 1 Axes>"
      ]
     },
     "metadata": {},
     "output_type": "display_data"
    }
   ],
   "source": [
    "f2 = plt.figure()\n",
    "plt.plot(iters, val_recall_at_ks, label='recall_at_k')\n",
    "plt.xlabel('iteration')\n",
    "plt.ylabel('recall_at_k')\n",
    "plt.title('recall_at_k curves')\n",
    "plt.show()"
   ]
  },
  {
   "cell_type": "markdown",
   "id": "7cb9b880",
   "metadata": {},
   "source": [
    "# Evaluation (RMSE)"
   ]
  },
  {
   "cell_type": "code",
   "execution_count": 25,
   "id": "9fbabdb0",
   "metadata": {},
   "outputs": [
    {
     "name": "stdout",
     "output_type": "stream",
     "text": [
      "recall_at_k 0.33414, precision_at_k 0.55961\n"
     ]
    }
   ],
   "source": [
    "model.eval()\n",
    "with torch.no_grad():\n",
    "    test_edge_index = test_edge_index.to(device)\n",
    "    test_edge_values = test_edge_values.to(device)\n",
    "    pred_ratings = model.forward(test_edge_index, test_edge_values)\n",
    "    recall_at_k, precision_at_k = get_recall_at_k(r_mat_test_edge_index, \n",
    "                                                  r_mat_test_edge_values, \n",
    "                                                  pred_ratings, 20)\n",
    "    print(f\"recall_at_k {round(recall_at_k, 5)}, precision_at_k {round(precision_at_k, 5)}\")\n"
   ]
  }
 ],
 "metadata": {
  "kernelspec": {
   "display_name": "Python 3 (ipykernel)",
   "language": "python",
   "name": "python3"
  },
  "language_info": {
   "codemirror_mode": {
    "name": "ipython",
    "version": 3
   },
   "file_extension": ".py",
   "mimetype": "text/x-python",
   "name": "python",
   "nbconvert_exporter": "python",
   "pygments_lexer": "ipython3",
   "version": "3.11.5"
  }
 },
 "nbformat": 4,
 "nbformat_minor": 5
}
